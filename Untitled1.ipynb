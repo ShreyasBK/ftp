{
 "cells": [
  {
   "cell_type": "code",
   "execution_count": null,
   "id": "e02589cd",
   "metadata": {},
   "outputs": [],
   "source": [
    "from ftplib import FTP\n",
    "\n",
    "# FTP server details\n",
    "ftp_server = \"IP\"\n",
    "ftp_user = \"admin\"\n",
    "ftp_password = \"\"\n",
    "\n",
    "# SD card path on the FTP server\n",
    "sd_card_path = \"\"\n",
    "\n",
    "# Destination folder on your local machine\n",
    "local_destination_folder = \"\"\n",
    "\n",
    "# Establish a connection to the FTP server\n",
    "ftp = FTP(ftp_server)\n",
    "ftp.login(user=ftp_user, passwd=ftp_password)\n",
    "\n",
    "# Change the working directory to the SD card path\n",
    "ftp.cwd(sd_card_path)\n",
    "\n",
    "# List all files on the SD card\n",
    "sd_card_files = ftp.nlst()\n",
    "print(sd_card_files)\n",
    "# Download each file from the SD card\n",
    "for file_name in sd_card_files:\n",
    "    local_file_path = os.path.join(local_destination_folder, file_name)\n",
    "    with open(local_file_path, \"wb\") as local_file:\n",
    "        ftp.retrbinary(\"RETR \" + file_name, local_file.write)\n",
    "    print(f\"Downloaded {file_name} to {local_file_path}\")\n",
    "\n",
    "# Close the FTP connection\n",
    "ftp.quit()\n"
   ]
  }
 ],
 "metadata": {
  "kernelspec": {
   "display_name": "Python 3 (ipykernel)",
   "language": "python",
   "name": "python3"
  },
  "language_info": {
   "codemirror_mode": {
    "name": "ipython",
    "version": 3
   },
   "file_extension": ".py",
   "mimetype": "text/x-python",
   "name": "python",
   "nbconvert_exporter": "python",
   "pygments_lexer": "ipython3",
   "version": "3.9.13"
  }
 },
 "nbformat": 4,
 "nbformat_minor": 5
}
